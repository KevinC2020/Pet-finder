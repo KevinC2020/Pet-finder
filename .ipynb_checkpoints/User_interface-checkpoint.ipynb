{
 "cells": [
  {
   "cell_type": "code",
   "execution_count": 1,
   "metadata": {},
   "outputs": [
    {
     "name": "stderr",
     "output_type": "stream",
     "text": [
      "[nltk_data] Downloading package punkt to\n",
      "[nltk_data]     C:\\Users\\kevin\\AppData\\Roaming\\nltk_data...\n",
      "[nltk_data]   Package punkt is already up-to-date!\n",
      "[nltk_data] Downloading package stopwords to\n",
      "[nltk_data]     C:\\Users\\kevin\\AppData\\Roaming\\nltk_data...\n",
      "[nltk_data]   Package stopwords is already up-to-date!\n",
      "[nltk_data] Downloading package wordnet to\n",
      "[nltk_data]     C:\\Users\\kevin\\AppData\\Roaming\\nltk_data...\n",
      "[nltk_data]   Package wordnet is already up-to-date!\n"
     ]
    }
   ],
   "source": [
    "## conda install -c conda-forge ipywidgets\n",
    "import ipywidgets as widgets\n",
    "import pandas as pd\n",
    "from IPython.display import display\n",
    "import numpy as np\n",
    "import os\n",
    "from pickle import load\n",
    "import nltk\n",
    "nltk.download('punkt')\n",
    "nltk.download('stopwords')\n",
    "nltk.download('wordnet')\n",
    "from nltk.tokenize import sent_tokenize, word_tokenize\n",
    "from nltk.corpus import stopwords\n",
    "from nltk.stem import WordNetLemmatizer\n",
    "import re\n"
   ]
  },
  {
   "cell_type": "code",
   "execution_count": 2,
   "metadata": {},
   "outputs": [
    {
     "name": "stderr",
     "output_type": "stream",
     "text": [
      "C:\\Users\\kevin\\AppData\\Local\\Continuum\\anaconda3\\lib\\site-packages\\sklearn\\base.py:306: UserWarning: Trying to unpickle estimator DecisionTreeClassifier from version 0.21.3 when using version 0.21.2. This might lead to breaking code or invalid results. Use at your own risk.\n",
      "  UserWarning)\n",
      "C:\\Users\\kevin\\AppData\\Local\\Continuum\\anaconda3\\lib\\site-packages\\sklearn\\base.py:306: UserWarning: Trying to unpickle estimator RandomForestClassifier from version 0.21.3 when using version 0.21.2. This might lead to breaking code or invalid results. Use at your own risk.\n",
      "  UserWarning)\n",
      "C:\\Users\\kevin\\AppData\\Local\\Continuum\\anaconda3\\lib\\site-packages\\sklearn\\base.py:306: UserWarning: Trying to unpickle estimator TfidfTransformer from version 0.21.3 when using version 0.21.2. This might lead to breaking code or invalid results. Use at your own risk.\n",
      "  UserWarning)\n",
      "C:\\Users\\kevin\\AppData\\Local\\Continuum\\anaconda3\\lib\\site-packages\\sklearn\\base.py:306: UserWarning: Trying to unpickle estimator TfidfVectorizer from version 0.21.3 when using version 0.21.2. This might lead to breaking code or invalid results. Use at your own risk.\n",
      "  UserWarning)\n"
     ]
    }
   ],
   "source": [
    "# pull breed labels\n",
    "BreedLabel = pd.read_csv('Data/BreedLabels.csv', header=0, index_col=0, squeeze=True).to_dict()\n",
    "ColorLabel = pd.read_csv('Data/ColorLabels.csv', header=0, index_col=0, squeeze=True).to_dict()\n",
    "StateLabel = pd.read_csv('Data/StateLabels.csv', header=0, index_col=0, squeeze=True).to_dict()\n",
    "BreedLabel['BreedName'][0]= None\n",
    "ColorLabel[0]= None\n",
    "StateLabel[0]= None\n",
    "Breed_dict = [(v, k)  for k,v in BreedLabel['BreedName'].items()]\n",
    "Color_dict = [(v, k)  for k,v in ColorLabel.items()]\n",
    "State_dict = [(v, k)  for k,v in StateLabel.items()]\n",
    "\n",
    "# dataFrame Column names\n",
    "column_names = pd.read_csv('Data/column_names.csv')['0'].values\n",
    "# load model \n",
    "model = load(open('RFModel/random_forest_model.pkl', 'rb'))\n",
    "object_nlp = load(open('RFModel/object_nlp.pkl', 'rb'))"
   ]
  },
  {
   "cell_type": "code",
   "execution_count": 3,
   "metadata": {},
   "outputs": [],
   "source": [
    "# Build Widgets\n",
    "\n",
    "Type = widgets.Dropdown(\n",
    "    options=[('Dog', 1), ('Cat', 2)],\n",
    "    value= None,\n",
    "    description='Type:',\n",
    "    disabled=False,\n",
    ")\n",
    "Age = widgets.IntSlider(\n",
    "    value=0,\n",
    "    min=0,\n",
    "    max=520,\n",
    "    step=1,\n",
    "    description='Age:',\n",
    "    disabled=False,\n",
    "    continuous_update=False,\n",
    "    orientation='horizontal',\n",
    "    readout=True,\n",
    "    readout_format='d'\n",
    ")\n",
    "Breed1 = widgets.Dropdown(\n",
    "    options= Breed_dict,\n",
    "    value=None,\n",
    "    description='Breed1:',\n",
    "    disabled=False,\n",
    ")\n",
    "Breed2 = widgets.Dropdown(\n",
    "    options= Breed_dict,\n",
    "    value=None,\n",
    "    description='Breed2:',\n",
    "    disabled=False,\n",
    ")\n",
    "Gender = widgets.Dropdown(\n",
    "    options=[('Male', 1), ('Female', 2), ('Mixed' , 3)],\n",
    "    value=None,\n",
    "    description='Gender:',\n",
    "    disabled=False,\n",
    ")\n",
    "Color1 = widgets.Dropdown(\n",
    "    options= Color_dict,\n",
    "    value=None,\n",
    "    description='Color1:',\n",
    "    disabled=False,\n",
    ")\n",
    "Color2 = widgets.Dropdown(\n",
    "    options= Color_dict,\n",
    "    value=None,\n",
    "    description='Color2:',\n",
    "    disabled=False,\n",
    ")\n",
    "Color3 = widgets.Dropdown(\n",
    "    options= Color_dict,\n",
    "    value=None,\n",
    "    description='Color3:',\n",
    "    disabled=False,\n",
    ")\n",
    "MaturitySize = widgets.Dropdown(\n",
    "    options=[('Small',1), ('Medium',2), ('Large',3), ('Extra Large',4), ('Not Sure',0)],\n",
    "    value=None,\n",
    "    description='MaturitySize:',\n",
    "    disabled=False,\n",
    ")\n",
    "FurLength = widgets.Dropdown(\n",
    "    options=[('Short',1), ('Medium',2), ('Long',3), ('Not Sure', 0)],\n",
    "    value=None,\n",
    "    description='FurLength:',\n",
    "    disabled=False,\n",
    ")\n",
    "Vaccinated = widgets.Dropdown(\n",
    "    options=[('Yes', 1), ('No',2), ('Not Sure',3 )],\n",
    "    value=None,\n",
    "    description='Vaccinated:',\n",
    "    disabled=False,\n",
    ")\n",
    "Dewormed = widgets.Dropdown(\n",
    "    options=[('Yes',1), ('No',2), ('Not Sure',3)],\n",
    "    value=None,\n",
    "    description='Dewormed:',\n",
    "    disabled=False,\n",
    ")\n",
    "Sterilized = widgets.Dropdown(\n",
    "    options=[('Yes',1), ('No',2), ('Not Sure',3)],\n",
    "    value=None,\n",
    "    description='Sterilized:',\n",
    "    disabled=False,\n",
    ")\n",
    "Health = widgets.Dropdown(\n",
    "    options=[('Healthy',1), ('Minor Injury',2), ('Serious Injury',3)],\n",
    "    value=None,\n",
    "    description='Health:',\n",
    "    disabled=False,\n",
    ")\n",
    "Quantity = widgets.IntSlider(\n",
    "    value=1,\n",
    "    min=1,\n",
    "    max=50,\n",
    "    step=1,\n",
    "    description='Quantity:',\n",
    "    disabled=False,\n",
    "    continuous_update=False,\n",
    "    orientation='horizontal',\n",
    "    readout=True,\n",
    "    readout_format='d'\n",
    ")\n",
    "Fee = widgets.IntSlider(\n",
    "    value=None,\n",
    "    min=0,\n",
    "    max=10000,\n",
    "    step=1,\n",
    "    description='Fee:',\n",
    "    disabled=False,\n",
    "    continuous_update=False,\n",
    "    orientation='horizontal',\n",
    "    readout=True,\n",
    "    readout_format='d'\n",
    ")\n",
    "State = widgets.Dropdown(\n",
    "    options=State_dict,\n",
    "    value=None,\n",
    "    description='State:',\n",
    "    disabled=False,\n",
    ")\n",
    "VideoAmt = widgets.IntSlider(\n",
    "    value=None,\n",
    "    min=0,\n",
    "    max=20,\n",
    "    step=1,\n",
    "    description='VideoAmt:',\n",
    "    disabled=False,\n",
    "    continuous_update=False,\n",
    "    orientation='horizontal',\n",
    "    readout=True,\n",
    "    readout_format='d'\n",
    ")\n",
    "PhotoAmt = widgets.IntSlider(\n",
    "    value=None,\n",
    "    min=0,\n",
    "    max=50,\n",
    "    step=1,\n",
    "    description='PhotoAmt:',\n",
    "    disabled=False,\n",
    "    continuous_update=False,\n",
    "    orientation='horizontal',\n",
    "    readout=True,\n",
    "    readout_format='d'\n",
    ")\n",
    "Description = widgets.Text(\n",
    "    value=None,\n",
    "    placeholder='Sample description',\n",
    "    description='Description:',\n",
    "    disabled=False\n",
    ")"
   ]
  },
  {
   "cell_type": "code",
   "execution_count": 4,
   "metadata": {},
   "outputs": [
    {
     "data": {
      "application/vnd.jupyter.widget-view+json": {
       "model_id": "608ea7389ad442c7a2b383bfeed28e15",
       "version_major": 2,
       "version_minor": 0
      },
      "text/plain": [
       "Dropdown(description='Type:', options=(('Dog', 1), ('Cat', 2)), value=None)"
      ]
     },
     "metadata": {},
     "output_type": "display_data"
    },
    {
     "data": {
      "application/vnd.jupyter.widget-view+json": {
       "model_id": "97d39e7112ad48a8aa6e64f037f991a4",
       "version_major": 2,
       "version_minor": 0
      },
      "text/plain": [
       "IntSlider(value=0, continuous_update=False, description='Age:', max=520)"
      ]
     },
     "metadata": {},
     "output_type": "display_data"
    },
    {
     "data": {
      "application/vnd.jupyter.widget-view+json": {
       "model_id": "d3085c4a034f4c9e81ff0aa6d944ff68",
       "version_major": 2,
       "version_minor": 0
      },
      "text/plain": [
       "Dropdown(description='Breed1:', options=(('Affenpinscher', 1), ('Afghan Hound', 2), ('Airedale Terrier', 3), (…"
      ]
     },
     "metadata": {},
     "output_type": "display_data"
    },
    {
     "data": {
      "application/vnd.jupyter.widget-view+json": {
       "model_id": "e1430088ee88469d843a522e174e3658",
       "version_major": 2,
       "version_minor": 0
      },
      "text/plain": [
       "Dropdown(description='Breed2:', options=(('Affenpinscher', 1), ('Afghan Hound', 2), ('Airedale Terrier', 3), (…"
      ]
     },
     "metadata": {},
     "output_type": "display_data"
    },
    {
     "data": {
      "application/vnd.jupyter.widget-view+json": {
       "model_id": "aa3f78a0095d4b9d81d27bc3c032c49e",
       "version_major": 2,
       "version_minor": 0
      },
      "text/plain": [
       "Dropdown(description='Gender:', options=(('Male', 1), ('Female', 2), ('Mixed', 3)), value=None)"
      ]
     },
     "metadata": {},
     "output_type": "display_data"
    },
    {
     "data": {
      "application/vnd.jupyter.widget-view+json": {
       "model_id": "fe101804c95f4f37b6452ba197505ed9",
       "version_major": 2,
       "version_minor": 0
      },
      "text/plain": [
       "Dropdown(description='Color1:', options=(('Black', 1), ('Brown', 2), ('Golden', 3), ('Yellow', 4), ('Cream', 5…"
      ]
     },
     "metadata": {},
     "output_type": "display_data"
    },
    {
     "data": {
      "application/vnd.jupyter.widget-view+json": {
       "model_id": "ded8d55c840547c9acfcabecde1e1bd8",
       "version_major": 2,
       "version_minor": 0
      },
      "text/plain": [
       "Dropdown(description='Color2:', options=(('Black', 1), ('Brown', 2), ('Golden', 3), ('Yellow', 4), ('Cream', 5…"
      ]
     },
     "metadata": {},
     "output_type": "display_data"
    },
    {
     "data": {
      "application/vnd.jupyter.widget-view+json": {
       "model_id": "4367c37b9daf4b00a2f6f0186d300c86",
       "version_major": 2,
       "version_minor": 0
      },
      "text/plain": [
       "Dropdown(description='Color3:', options=(('Black', 1), ('Brown', 2), ('Golden', 3), ('Yellow', 4), ('Cream', 5…"
      ]
     },
     "metadata": {},
     "output_type": "display_data"
    },
    {
     "data": {
      "application/vnd.jupyter.widget-view+json": {
       "model_id": "100ad3d4a8c54fb88e786e36206554e3",
       "version_major": 2,
       "version_minor": 0
      },
      "text/plain": [
       "Dropdown(description='MaturitySize:', options=(('Small', 1), ('Medium', 2), ('Large', 3), ('Extra Large', 4), …"
      ]
     },
     "metadata": {},
     "output_type": "display_data"
    },
    {
     "data": {
      "application/vnd.jupyter.widget-view+json": {
       "model_id": "5169a333f81f4239b7c1f01321ad5cd5",
       "version_major": 2,
       "version_minor": 0
      },
      "text/plain": [
       "Dropdown(description='FurLength:', options=(('Short', 1), ('Medium', 2), ('Long', 3), ('Not Sure', 0)), value=…"
      ]
     },
     "metadata": {},
     "output_type": "display_data"
    },
    {
     "data": {
      "application/vnd.jupyter.widget-view+json": {
       "model_id": "36853cfd190c484da0d66cd312b0f60e",
       "version_major": 2,
       "version_minor": 0
      },
      "text/plain": [
       "Dropdown(description='Vaccinated:', options=(('Yes', 1), ('No', 2), ('Not Sure', 3)), value=None)"
      ]
     },
     "metadata": {},
     "output_type": "display_data"
    },
    {
     "data": {
      "application/vnd.jupyter.widget-view+json": {
       "model_id": "259b8c3c95074dd387dfaae4b3f5c737",
       "version_major": 2,
       "version_minor": 0
      },
      "text/plain": [
       "Dropdown(description='Dewormed:', options=(('Yes', 1), ('No', 2), ('Not Sure', 3)), value=None)"
      ]
     },
     "metadata": {},
     "output_type": "display_data"
    },
    {
     "data": {
      "application/vnd.jupyter.widget-view+json": {
       "model_id": "c557f299c36143dab816a7b05e42794e",
       "version_major": 2,
       "version_minor": 0
      },
      "text/plain": [
       "Dropdown(description='Sterilized:', options=(('Yes', 1), ('No', 2), ('Not Sure', 3)), value=None)"
      ]
     },
     "metadata": {},
     "output_type": "display_data"
    },
    {
     "data": {
      "application/vnd.jupyter.widget-view+json": {
       "model_id": "8c909f505dd64780b4275d979a8058fe",
       "version_major": 2,
       "version_minor": 0
      },
      "text/plain": [
       "Dropdown(description='Health:', options=(('Healthy', 1), ('Minor Injury', 2), ('Serious Injury', 3)), value=No…"
      ]
     },
     "metadata": {},
     "output_type": "display_data"
    },
    {
     "data": {
      "application/vnd.jupyter.widget-view+json": {
       "model_id": "b68a8563bc424f609c96191d48535ed1",
       "version_major": 2,
       "version_minor": 0
      },
      "text/plain": [
       "IntSlider(value=1, continuous_update=False, description='Quantity:', max=50, min=1)"
      ]
     },
     "metadata": {},
     "output_type": "display_data"
    },
    {
     "data": {
      "application/vnd.jupyter.widget-view+json": {
       "model_id": "05b3688035fc49f3849cf64d626302b4",
       "version_major": 2,
       "version_minor": 0
      },
      "text/plain": [
       "IntSlider(value=0, continuous_update=False, description='Fee:', max=10000)"
      ]
     },
     "metadata": {},
     "output_type": "display_data"
    },
    {
     "data": {
      "application/vnd.jupyter.widget-view+json": {
       "model_id": "87f94daf44d648b0a4a617bf26ae2ec1",
       "version_major": 2,
       "version_minor": 0
      },
      "text/plain": [
       "Dropdown(description='State:', options=(('Johor', 41336), ('Kedah', 41325), ('Kelantan', 41367), ('Kuala Lumpu…"
      ]
     },
     "metadata": {},
     "output_type": "display_data"
    },
    {
     "data": {
      "application/vnd.jupyter.widget-view+json": {
       "model_id": "47d331a7e3784964b8efe705a95dc746",
       "version_major": 2,
       "version_minor": 0
      },
      "text/plain": [
       "IntSlider(value=0, continuous_update=False, description='VideoAmt:', max=20)"
      ]
     },
     "metadata": {},
     "output_type": "display_data"
    },
    {
     "data": {
      "application/vnd.jupyter.widget-view+json": {
       "model_id": "cb1161c50e3840b2bc9bdc48f15c3e7f",
       "version_major": 2,
       "version_minor": 0
      },
      "text/plain": [
       "IntSlider(value=0, continuous_update=False, description='PhotoAmt:', max=50)"
      ]
     },
     "metadata": {},
     "output_type": "display_data"
    },
    {
     "data": {
      "application/vnd.jupyter.widget-view+json": {
       "model_id": "73d6514218e94a1b914916ed8ca10ff8",
       "version_major": 2,
       "version_minor": 0
      },
      "text/plain": [
       "Text(value='', description='Description:', placeholder='Sample description')"
      ]
     },
     "metadata": {},
     "output_type": "display_data"
    }
   ],
   "source": [
    "# display input fields\n",
    "display(Type)\n",
    "display(Age)\n",
    "display(Breed1)\n",
    "display(Breed2)\n",
    "display(Gender)\n",
    "display(Color1)\n",
    "display(Color2)\n",
    "display(Color3)\n",
    "display(MaturitySize)\n",
    "display(FurLength)\n",
    "display(Vaccinated)\n",
    "display(Dewormed)\n",
    "display(Sterilized)\n",
    "display(Health)\n",
    "display(Quantity)\n",
    "display(Fee)\n",
    "display(State)\n",
    "display(VideoAmt)\n",
    "display(PhotoAmt)\n",
    "display(Description)"
   ]
  },
  {
   "cell_type": "code",
   "execution_count": 6,
   "metadata": {},
   "outputs": [],
   "source": [
    "# Process the input values\n",
    "\n",
    "new_observation = pd.DataFrame(np.zeros(355).reshape(1,355),columns = column_names )\n",
    "\n",
    "values1 = [Breed1, Breed2, Color1, Color2, Color3, Vaccinated, Dewormed, Sterilized, State] #Description.value\n",
    "values2 = [Type, Age, Gender, MaturitySize, FurLength, Quantity, Fee, VideoAmt, PhotoAmt , Health]\n",
    "\n",
    "for item in values1:\n",
    "    column = item.description.split(':')[0] + '_' + str(int(item.value))\n",
    "    if column in new_observation.columns:\n",
    "        new_observation[column] = 1\n",
    "for item in values2:\n",
    "        column = item.description.split(':')[0] \n",
    "        new_observation[column] = item.value\n",
    "\n",
    "#text processing \n",
    "\n",
    "nlp = Description.value\n",
    "corpus = []\n",
    "\n",
    "wordnet = WordNetLemmatizer()\n",
    "words = re.sub('[^a-zA-Z]',' ', str(nlp))\n",
    "words = words.lower()\n",
    "words = words.split()\n",
    "words = [wordnet.lemmatize(word) for word in words if not word in set(stopwords.words('english'))]\n",
    "words = ' '.join(words)\n",
    "corpus.append(words)\n",
    "\n",
    "text = object_nlp.transform(corpus)\n",
    "\n",
    "x = pd.concat([new_observation, pd.DataFrame(text.toarray())], axis =1 , ignore_index = True)\n",
    "x = np.array(x)"
   ]
  },
  {
   "cell_type": "code",
   "execution_count": 7,
   "metadata": {},
   "outputs": [
    {
     "name": "stdout",
     "output_type": "stream",
     "text": [
      "Adoption Speed :\n",
      "No adoption after 100 days of being listed\n"
     ]
    }
   ],
   "source": [
    "# Adoption dictionary\n",
    "adopt_dict = {\n",
    "0 : 'Pet will be adopted on the same day as it was listed.',\n",
    "1 : 'Pet will be adopted between 1 and 7 days (1st week) after being listed.',\n",
    "2 : 'Pet will be adopted between 8 and 30 days (1st month) after being listed.',\n",
    "3 : 'Pet will be adopted between 31 and 90 days (2nd & 3rd month) after being listed',\n",
    "4 : 'No adoption after 100 days of being listed'}\n",
    "\n",
    "#prediction \n",
    "\n",
    "prediction = model.predict(x)[0]\n",
    "\n",
    "\n",
    "# print the results\n",
    "print('Adoption Speed :')\n",
    "print(adopt_dict[prediction])"
   ]
  }
 ],
 "metadata": {
  "kernelspec": {
   "display_name": "Python 3",
   "language": "python",
   "name": "python3"
  },
  "language_info": {
   "codemirror_mode": {
    "name": "ipython",
    "version": 3
   },
   "file_extension": ".py",
   "mimetype": "text/x-python",
   "name": "python",
   "nbconvert_exporter": "python",
   "pygments_lexer": "ipython3",
   "version": "3.7.3"
  }
 },
 "nbformat": 4,
 "nbformat_minor": 2
}
